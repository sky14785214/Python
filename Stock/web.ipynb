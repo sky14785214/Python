{
 "cells": [
  {
   "cell_type": "code",
   "execution_count": 89,
   "metadata": {},
   "outputs": [],
   "source": [
    "import urllib.request as req\n",
    "import matplotlib.pyplot as plt\n",
    "import pandas as pd\n",
    "import bs4"
   ]
  },
  {
   "cell_type": "code",
   "execution_count": 96,
   "metadata": {},
   "outputs": [],
   "source": [
    "def inputstock(url):\n",
    "    \"https://histock.tw/stock/financial.aspx?no={0}&t=2\".format(str(url))\n",
    "    return url\n",
    "\n",
    "def eps(url_data): # eps\n",
    "    EPS_bf4 = []\n",
    "    titles = root.find_all(\"td\",class_=\"b-b\") # 尋找所有 class=title 的div標\n",
    "\n",
    "    for i in range(2,32,5):\n",
    "        EPS_bf4.append(titles[i].string)\n",
    "    return EPS_bf4\n",
    "\n",
    "def interest_stock(url_data): # 股票股利\n",
    "    interest = []\n",
    "    interest_stock = root.find_all(\"td\",class_=\"b-b\")\n",
    "    for i in range(1,31,5):\n",
    "        interest.append(interest_stock[i].string)\n",
    "    return interest\n",
    "\n",
    "def interest_money(url_data):\n",
    "    interest_money = []\n",
    "    interest_moneys = root.find_all(\"td\")\n",
    "#     print(interest_moneys)\n",
    "    for i in range(6,78,13):\n",
    "        interest_money.append(interest_moneys[i].string)\n",
    "    return interest_money\n",
    "\n",
    "def now_stock(url_data):\n",
    "    now = []\n",
    "    now_stock = root.find_all(\"span\",class_=\"clr-gr\")\n",
    "#     print(now_stock)\n",
    "    for i in range(0,3,1):\n",
    "        now.append(now_stock[i].string)\n",
    "    return now\n",
    "    \n",
    "def stock_price(url_data):\n",
    "    price = []\n",
    "    stock_price = root.find_all(\"td\")\n",
    "#     print(stock_price)\n",
    "    for i in range(4,11,13):\n",
    "        price.append(stock_price[i].string)\n",
    "    return price   \n",
    "\n"
   ]
  },
  {
   "cell_type": "code",
   "execution_count": 98,
   "metadata": {},
   "outputs": [
    {
     "name": "stdout",
     "output_type": "stream",
     "text": [
      "EPS: ['1.19', '1.07', '1.10', '1.09', '1.30', '0.08']\n",
      "股票股利: ['0.23', '0.21', '0.44', '0.43', '0.72', '0']\n",
      "現金股利: ['0.57', '0.51', '0.54', '0.53', '0.48', '0.1']\n",
      "今日股價: ['13.20', '▼0.05', '-0.38%']\n",
      "除息前價格: ['13.85']\n"
     ]
    }
   ],
   "source": [
    "url=\"https://histock.tw/stock/financial.aspx?no=2887&t=2\"\n",
    "\n",
    "#附加headers 偽裝一般使用者\n",
    "request = req.Request(url, headers={\n",
    "    \"user-agent\":\"Mozilla/5.0 (Windows NT 10.0; Win64; x64) AppleWebKit/537.36 (KHTML, like Gecko) Chrome/84.0.4147.105 Safari/537.36\"\n",
    "})\n",
    "\n",
    "with req.urlopen(request) as response:\n",
    "    data = response.read().decode(\"utf-8\")\n",
    "# print(data)\n",
    "#解析原始碼\n",
    "\n",
    "\n",
    "root = bs4.BeautifulSoup(data,\"html.parser\")\n",
    "\n",
    "origin = []\n",
    "\n",
    "result = eps(data)\n",
    "\n",
    "print(\"EPS: {0}\".format(result))\n",
    "\n",
    "results = interest_stock(data)\n",
    "print(\"股票股利: {0}\".format(results))\n",
    "\n",
    "results = interest_money(data)\n",
    "print(\"現金股利: {0}\".format(results))\n",
    "# print(now_stock(data))\n",
    "results = now_stock(data)\n",
    "print(\"今日股價: {0}\".format(results))\n",
    "results = stock_price(data)\n",
    "print(\"除息前價格: {0}\".format(results))\n",
    "\n",
    "# x = [1,2,3,4,5]\n",
    "# y = [2.3,3.4,1.2,6.6,7.0]\n",
    "# plt.scatter(x,y,color=\"r\",mark=\"+\")\n",
    "# plt.show()"
   ]
  },
  {
   "cell_type": "code",
   "execution_count": null,
   "metadata": {},
   "outputs": [],
   "source": []
  },
  {
   "cell_type": "code",
   "execution_count": null,
   "metadata": {},
   "outputs": [],
   "source": []
  },
  {
   "cell_type": "code",
   "execution_count": null,
   "metadata": {},
   "outputs": [],
   "source": []
  }
 ],
 "metadata": {
  "kernelspec": {
   "display_name": "Python 3",
   "language": "python",
   "name": "python3"
  },
  "language_info": {
   "codemirror_mode": {
    "name": "ipython",
    "version": 3
   },
   "file_extension": ".py",
   "mimetype": "text/x-python",
   "name": "python",
   "nbconvert_exporter": "python",
   "pygments_lexer": "ipython3",
   "version": "3.7.4"
  }
 },
 "nbformat": 4,
 "nbformat_minor": 4
}
