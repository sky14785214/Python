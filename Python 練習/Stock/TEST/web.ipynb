{
 "cells": [
  {
   "cell_type": "code",
   "execution_count": 179,
   "metadata": {},
   "outputs": [],
   "source": [
    "import urllib.request as req\n",
    "import matplotlib.pyplot as plt\n",
    "import pandas as pd\n",
    "import bs4\n",
    "import matplotlib as mpl\n",
    "import matplotlib.pyplot as plt \n",
    "from mpl_toolkits import mplot3d as mpl3d\n",
    "import numpy as np\n",
    "\n",
    "# import matplotlib.pyplot as plt "
   ]
  },
  {
   "cell_type": "code",
   "execution_count": 182,
   "metadata": {},
   "outputs": [],
   "source": [
    "def inputstock(url):\n",
    "    url = \"https://histock.tw/stock/financial.aspx?no={0}&t=2\".format(str(url))\n",
    "    return url\n",
    "\n",
    "def eps(url_data): # eps\n",
    "    EPS_bf4 = []\n",
    "    titles = root.find_all(\"td\",class_=\"b-b\") # 尋找所有 class=title 的div標\n",
    "\n",
    "    for i in range(2,32,5):\n",
    "        EPS_bf4.append(titles[i].string)\n",
    "    for i in range(len(EPS_bf4)):\n",
    "        EPS_bf4[i] = float(EPS_bf4[i])\n",
    "    return EPS_bf4\n",
    "\n",
    "def interest_stock(url_data): # 股票股利\n",
    "    interest = []\n",
    "    interest_stock = root.find_all(\"td\",class_=\"b-b\")\n",
    "    for i in range(1,31,5):\n",
    "        interest.append(interest_stock[i].string)\n",
    "    for i in range(len(interest)):\n",
    "        interest[i] = float(interest[i])\n",
    "    return interest\n",
    "\n",
    "def interest_money(url_data):\n",
    "    interest_money = []\n",
    "    interest_moneys = root.find_all(\"td\")\n",
    "#     print(interest_moneys)\n",
    "    for i in range(6,78,13):\n",
    "        interest_money.append(interest_moneys[i].string)\n",
    "    for i in range(len(interest_money)):\n",
    "        interest_money[i] = float(interest_money[i])\n",
    "    return interest_money\n",
    "\n",
    "def now_stock(url_data):\n",
    "    now = []\n",
    "    now_stock = root.find_all(\"span\",class_=\"clr-gr\")\n",
    "#     print(now_stock)\n",
    "    for i in range(0,3,1):\n",
    "        now.append(now_stock[i].string)\n",
    "\n",
    "    return now\n",
    "    \n",
    "def stock_price(url_data):\n",
    "    price = []\n",
    "    stock_price = root.find_all(\"td\")\n",
    "#     print(stock_price)\n",
    "    for i in range(4,72,13):       \n",
    "        price.append(stock_price[i].string)\n",
    "    for i in range(len(price)):\n",
    "        price[i] = float(price[i])\n",
    "    return price   \n",
    "\n",
    "def epsyear(url_data):\n",
    "    year2020 = []\n",
    "    epsyear = root.find_all(\"td\",class_=\"date\")\n",
    "#     print(epsyear)\n",
    "    for i in range(0,12,2):\n",
    "        year2020.append(epsyear[i].string)\n",
    "    for i in range(len(year2020)):\n",
    "        year2020[i] = int(year2020[i])\n",
    "    return year2020\n"
   ]
  },
  {
   "cell_type": "code",
   "execution_count": 183,
   "metadata": {},
   "outputs": [
    {
     "name": "stdout",
     "output_type": "stream",
     "text": [
      "輸入股票代號: 2887\n",
      "EPS: [1.19, 1.07, 1.1, 1.09, 1.3, 0.08]\n",
      "股票股利: [0.23, 0.21, 0.44, 0.43, 0.72, 0.0]\n",
      "現金股利: [0.57, 0.51, 0.54, 0.53, 0.48, 0.1]\n",
      "今日股價: ['13.15', '▼0.05', '-0.38%']\n",
      "除息前價格: [13.85, 14.3, 15.35, 13.9, 13.15, 12.6]\n",
      "年份: [2019, 2018, 2017, 2016, 2015, 2014]\n"
     ]
    }
   ],
   "source": [
    "stock_number = input(\"輸入股票代號: \")\n",
    "url = inputstock(stock_number)\n",
    "# url = \"https://histock.tw/stock/financial.aspx?no={0}&t=2\".format(str(stock_number))\n",
    "# url=\"https://histock.tw/stock/financial.aspx?no=2887&t=2\"\n",
    "\n",
    "#附加headers 偽裝一般使用者\n",
    "request = req.Request(url, headers={\n",
    "    \"user-agent\":\"Mozilla/5.0 (Windows NT 10.0; Win64; x64) AppleWebKit/537.36 (KHTML, like Gecko) Chrome/84.0.4147.105 Safari/537.36\"\n",
    "})\n",
    "\n",
    "with req.urlopen(request) as response:\n",
    "    data = response.read().decode(\"utf-8\")\n",
    "# print(data)\n",
    "#解析原始碼\n",
    "\n",
    "\n",
    "root = bs4.BeautifulSoup(data,\"html.parser\")\n",
    "\n",
    "origin = []\n",
    "\n",
    "results = eps(data)\n",
    "\n",
    "print(\"EPS: {0}\".format(results))\n",
    "Aplot_EPS = results\n",
    "results = interest_stock(data)\n",
    "print(\"股票股利: {0}\".format(results))\n",
    "Aplot_interest = results\n",
    "results = interest_money(data)\n",
    "print(\"現金股利: {0}\".format(results))\n",
    "Aplot_money = results\n",
    "# print(now_stock(data))\n",
    "results = now_stock(data)\n",
    "print(\"今日股價: {0}\".format(results))\n",
    "results = stock_price(data)\n",
    "Aplot_yearprice = results\n",
    "print(\"除息前價格: {0}\".format(results))\n",
    "results = epsyear(data)\n",
    "\n",
    "print(\"年份: {0}\".format(results))\n",
    "Aplot_x = results"
   ]
  },
  {
   "cell_type": "code",
   "execution_count": 184,
   "metadata": {},
   "outputs": [
    {
     "name": "stdout",
     "output_type": "stream",
     "text": [
      "[2019, 2018, 2017, 2016, 2015, 2014]\n",
      "[1.19, 1.07, 1.1, 1.09, 1.3, 0.08]\n"
     ]
    },
    {
     "data": {
      "text/plain": [
       "<function matplotlib.pyplot.show(*args, **kw)>"
      ]
     },
     "execution_count": 184,
     "metadata": {},
     "output_type": "execute_result"
    },
    {
     "data": {
      "image/png": "[encoded data removed]",
      "text/plain": [
       "<Figure size 432x288 with 1 Axes>"
      ]
     },
     "metadata": {
      "needs_background": "light"
     },
     "output_type": "display_data"
    }
   ],
   "source": [
    "print(Aplot_x)\n",
    "print(Aplot_EPS)\n",
    "\n",
    "# plt.plot(Aplot_x,Aplot_yearprice) #價格線圖\n",
    "\n",
    "plt.xlabel(\"Time\")\n",
    "plt.ylabel(\"Price/Distribution rate\")\n",
    "\n",
    "\n",
    "width = 0.3 #設定長條圖寬度\n",
    "\n",
    "plt.bar([i-width/2 for i in Aplot_x],Aplot_EPS, width=width,label = 'EPS') # BAR 質方圖，迴圈調整 X的寬度\n",
    "\n",
    "plt.bar([i+width/2 for i in Aplot_x],Aplot_money, width=width,label = 'money_interest') #直方圖\n",
    "plt.bar([i+width/2 for i in Aplot_x],Aplot_interest, width=width,bottom = Aplot_money,label  = 'stock_interest')\n",
    "plt.legend(loc = 'upper right') #LABEL 位子('upper right', 'upper left', 'lower left', 'lower right', 'right', 'center left', 'center right', 'lower center', 'upper center', 'center')\n",
    "plt.show"
   ]
  },
  {
   "cell_type": "code",
   "execution_count": null,
   "metadata": {},
   "outputs": [],
   "source": []
  },
  {
   "cell_type": "code",
   "execution_count": null,
   "metadata": {},
   "outputs": [],
   "source": []
  }
 ],
 "metadata": {
  "kernelspec": {
   "display_name": "Python 3",
   "language": "python",
   "name": "python3"
  },
  "language_info": {
   "codemirror_mode": {
    "name": "ipython",
    "version": 3
   },
   "file_extension": ".py",
   "mimetype": "text/x-python",
   "name": "python",
   "nbconvert_exporter": "python",
   "pygments_lexer": "ipython3",
   "version": "3.7.6"
  }
 },
 "nbformat": 4,
 "nbformat_minor": 4
}
