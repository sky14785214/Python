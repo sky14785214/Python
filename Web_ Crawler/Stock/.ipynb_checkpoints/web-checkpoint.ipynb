{
 "cells": [
  {
   "cell_type": "code",
   "execution_count": 1,
   "metadata": {},
   "outputs": [],
   "source": [
    "import urllib.request as req\n",
    "import matplotlib.pyplot as plt\n",
    "import pandas as pd\n",
    "import bs4"
   ]
  },
  {
   "cell_type": "code",
   "execution_count": 2,
   "metadata": {},
   "outputs": [],
   "source": [
    "def inputstock(url):\n",
    "    url=\"https://histock.tw/stock/financial.aspx?no=\"+ str(url) +\"&t=2\"\n",
    "    return url\n",
    "\n",
    "def eps(url_data):\n",
    "    EPS_bf4 = []\n",
    "    titles = root.find_all(\"td\",class_=\"b-b\") # 尋找所有 class=title 的div標\n",
    "\n",
    "    for i in range(2,32,5):\n",
    "        EPS_bf4.append(titles[i].string)\n",
    "    return EPS_bf4\n"
   ]
  },
  {
   "cell_type": "code",
   "execution_count": 5,
   "metadata": {},
   "outputs": [
    {
     "name": "stdout",
     "output_type": "stream",
     "text": [
      "1:['1.19', '1.07', '1.10', '1.09', '1.30', '0.08']\n"
     ]
    }
   ],
   "source": [
    "url=\"https://histock.tw/stock/financial.aspx?no=2887&t=2\"\n",
    "\n",
    "#附加headers 偽裝一般使用者\n",
    "request = req.Request(url, headers={\n",
    "    \"user-agent\":\"Mozilla/5.0 (Windows NT 10.0; Win64; x64) AppleWebKit/537.36 (KHTML, like Gecko) Chrome/84.0.4147.105 Safari/537.36\"\n",
    "})\n",
    "\n",
    "with req.urlopen(request) as response:\n",
    "    data = response.read().decode(\"utf-8\")\n",
    "# print(data)\n",
    "#解析原始碼\n",
    "\n",
    "\n",
    "root = bs4.BeautifulSoup(data,\"html.parser\")\n",
    "\n",
    "origin = []\n",
    "\n",
    "result = eps(data)\n",
    "\n",
    "print(\"1: {0}\".format(result))\n",
    "\n",
    "\n",
    "# x = [1,2,3,4,5]\n",
    "# y = [2.3,3.4,1.2,6.6,7.0]\n",
    "# plt.scatter(x,y,color=\"r\",mark=\"+\")\n",
    "# plt.show()"
   ]
  },
  {
   "cell_type": "code",
   "execution_count": null,
   "metadata": {},
   "outputs": [],
   "source": []
  },
  {
   "cell_type": "code",
   "execution_count": null,
   "metadata": {},
   "outputs": [],
   "source": []
  },
  {
   "cell_type": "code",
   "execution_count": null,
   "metadata": {},
   "outputs": [],
   "source": []
  }
 ],
 "metadata": {
  "kernelspec": {
   "display_name": "Python 3",
   "language": "python",
   "name": "python3"
  },
  "language_info": {
   "codemirror_mode": {
    "name": "ipython",
    "version": 3
   },
   "file_extension": ".py",
   "mimetype": "text/x-python",
   "name": "python",
   "nbconvert_exporter": "python",
   "pygments_lexer": "ipython3",
   "version": "3.6.10"
  }
 },
 "nbformat": 4,
 "nbformat_minor": 4
}
